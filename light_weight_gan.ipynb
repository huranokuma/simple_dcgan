{
  "cells": [
    {
      "cell_type": "markdown",
      "metadata": {
        "id": "view-in-github",
        "colab_type": "text"
      },
      "source": [
        "<a href=\"https://colab.research.google.com/github/huranokuma/simple_dcgan_test/blob/main/light_weight_gan.ipynb\" target=\"_parent\"><img src=\"https://colab.research.google.com/assets/colab-badge.svg\" alt=\"Open In Colab\"/></a>"
      ]
    },
    {
      "cell_type": "markdown",
      "metadata": {
        "id": "WhzLxP5OM94Z"
      },
      "source": [
        "## StyleGAN"
      ]
    },
    {
      "cell_type": "code",
      "execution_count": null,
      "metadata": {
        "colab": {
          "base_uri": "https://localhost:8080/"
        },
        "id": "jrb4BsdFzvR1",
        "outputId": "2e26e93b-6093-436f-8591-684c1b6e66ce"
      },
      "outputs": [
        {
          "output_type": "stream",
          "name": "stdout",
          "text": [
            "Mounted at /content/drive\n"
          ]
        }
      ],
      "source": [
        "from google.colab import drive\n",
        "drive.mount('/content/drive')"
      ]
    },
    {
      "cell_type": "code",
      "execution_count": null,
      "metadata": {
        "colab": {
          "base_uri": "https://localhost:8080/"
        },
        "id": "b7nqbuSQDZG5",
        "outputId": "33a912b8-5de2-4ddf-af32-983dc59b3382"
      },
      "outputs": [
        {
          "output_type": "stream",
          "name": "stdout",
          "text": [
            "GPU 0: Tesla P100-PCIE-16GB (UUID: GPU-223397cc-666e-5af9-5161-7ecf41d35c2b)\n"
          ]
        }
      ],
      "source": [
        "!nvidia-smi -L"
      ]
    },
    {
      "cell_type": "markdown",
      "metadata": {
        "id": "Vw5oJMF7t8oR"
      },
      "source": [
        "## こっちは使わない"
      ]
    },
    {
      "cell_type": "code",
      "execution_count": null,
      "metadata": {
        "colab": {
          "base_uri": "https://localhost:8080/"
        },
        "id": "DmMvpZBaz39p",
        "outputId": "a0d7247c-3622-4280-a034-92036ea326da"
      },
      "outputs": [
        {
          "name": "stdout",
          "output_type": "stream",
          "text": [
            "Collecting stylegan2_pytorch\n",
            "  Downloading stylegan2_pytorch-1.8.7-py3-none-any.whl (19 kB)\n",
            "Requirement already satisfied: torch in /usr/local/lib/python3.7/dist-packages (from stylegan2_pytorch) (1.11.0+cu113)\n",
            "Collecting vector-quantize-pytorch==0.1.0\n",
            "  Downloading vector_quantize_pytorch-0.1.0.tar.gz (2.2 kB)\n",
            "Requirement already satisfied: pillow in /usr/local/lib/python3.7/dist-packages (from stylegan2_pytorch) (7.1.2)\n",
            "Requirement already satisfied: retry in /usr/local/lib/python3.7/dist-packages (from stylegan2_pytorch) (0.9.2)\n",
            "Requirement already satisfied: torchvision in /usr/local/lib/python3.7/dist-packages (from stylegan2_pytorch) (0.12.0+cu113)\n",
            "Collecting contrastive-learner>=0.1.0\n",
            "  Downloading contrastive_learner-0.1.1-py3-none-any.whl (4.9 kB)\n",
            "Requirement already satisfied: tqdm in /usr/local/lib/python3.7/dist-packages (from stylegan2_pytorch) (4.64.0)\n",
            "Requirement already satisfied: fire in /usr/local/lib/python3.7/dist-packages (from stylegan2_pytorch) (0.4.0)\n",
            "Requirement already satisfied: einops in /usr/local/lib/python3.7/dist-packages (from stylegan2_pytorch) (0.4.1)\n",
            "Requirement already satisfied: kornia>=0.5.4 in /usr/local/lib/python3.7/dist-packages (from stylegan2_pytorch) (0.6.2)\n",
            "Requirement already satisfied: numpy in /usr/local/lib/python3.7/dist-packages (from stylegan2_pytorch) (1.21.6)\n",
            "Collecting aim\n",
            "  Downloading aim-3.10.1-cp37-cp37m-manylinux_2_24_x86_64.whl (5.5 MB)\n",
            "\u001b[K     |████████████████████████████████| 5.5 MB 6.1 MB/s \n",
            "\u001b[?25hRequirement already satisfied: packaging in /usr/local/lib/python3.7/dist-packages (from kornia>=0.5.4->stylegan2_pytorch) (21.3)\n",
            "Requirement already satisfied: typing-extensions in /usr/local/lib/python3.7/dist-packages (from torch->stylegan2_pytorch) (4.2.0)\n",
            "Collecting pillow\n",
            "  Downloading Pillow-9.1.1-cp37-cp37m-manylinux_2_17_x86_64.manylinux2014_x86_64.whl (3.1 MB)\n",
            "\u001b[K     |████████████████████████████████| 3.1 MB 89.4 MB/s \n",
            "\u001b[?25hCollecting aimrecords==0.0.7\n",
            "  Downloading aimrecords-0.0.7-py2.py3-none-any.whl (28 kB)\n",
            "Collecting psutil>=5.6.7\n",
            "  Downloading psutil-5.9.1-cp37-cp37m-manylinux_2_12_x86_64.manylinux2010_x86_64.manylinux_2_17_x86_64.manylinux2014_x86_64.whl (281 kB)\n",
            "\u001b[K     |████████████████████████████████| 281 kB 70.6 MB/s \n",
            "\u001b[?25hCollecting grpcio==1.42.0\n",
            "  Downloading grpcio-1.42.0-cp37-cp37m-manylinux_2_17_x86_64.manylinux2014_x86_64.whl (4.0 MB)\n",
            "\u001b[K     |████████████████████████████████| 4.0 MB 62.4 MB/s \n",
            "\u001b[?25hRequirement already satisfied: click>=7.0 in /usr/local/lib/python3.7/dist-packages (from aim->stylegan2_pytorch) (7.1.2)\n",
            "Requirement already satisfied: cachetools>=4.0.0 in /usr/local/lib/python3.7/dist-packages (from aim->stylegan2_pytorch) (4.2.4)\n",
            "Collecting uvicorn>=0.12.0\n",
            "  Downloading uvicorn-0.17.6-py3-none-any.whl (53 kB)\n",
            "\u001b[K     |████████████████████████████████| 53 kB 2.8 MB/s \n",
            "\u001b[?25hRequirement already satisfied: jinja2>=2.10.0 in /usr/local/lib/python3.7/dist-packages (from aim->stylegan2_pytorch) (2.11.3)\n",
            "Requirement already satisfied: filelock>=3.0.0 in /usr/local/lib/python3.7/dist-packages (from aim->stylegan2_pytorch) (3.7.0)\n",
            "Collecting alembic>=1.4.0\n",
            "  Downloading alembic-1.7.7-py3-none-any.whl (210 kB)\n",
            "\u001b[K     |████████████████████████████████| 210 kB 82.1 MB/s \n",
            "\u001b[?25hCollecting fastapi<0.68.0,>=0.65.0\n",
            "  Downloading fastapi-0.67.0-py3-none-any.whl (51 kB)\n",
            "\u001b[K     |████████████████████████████████| 51 kB 448 kB/s \n",
            "\u001b[?25hCollecting aim\n",
            "  Downloading aim-3.10.0-cp37-cp37m-manylinux_2_24_x86_64.whl (5.5 MB)\n",
            "\u001b[K     |████████████████████████████████| 5.5 MB 39.2 MB/s \n",
            "\u001b[?25hCollecting aim-ui==3.10.0\n",
            "  Downloading aim-ui-3.10.0.tar.gz (22.1 MB)\n",
            "\u001b[K     |████████████████████████████████| 22.1 MB 59.8 MB/s \n",
            "\u001b[?25hCollecting aim\n",
            "  Downloading aim-3.9.4-cp37-cp37m-manylinux_2_24_x86_64.whl (3.5 MB)\n",
            "\u001b[K     |████████████████████████████████| 3.5 MB 66.8 MB/s \n",
            "\u001b[?25h  Downloading aim-3.9.3-cp37-cp37m-manylinux_2_24_x86_64.whl (3.5 MB)\n",
            "\u001b[K     |████████████████████████████████| 3.5 MB 57.5 MB/s \n",
            "\u001b[?25h  Downloading aim-3.9.2-cp37-cp37m-manylinux_2_24_x86_64.whl (3.5 MB)\n",
            "\u001b[K     |████████████████████████████████| 3.5 MB 57.9 MB/s \n",
            "\u001b[?25h  Downloading aim-3.8.1-cp37-cp37m-manylinux_2_24_x86_64.whl (17.5 MB)\n",
            "\u001b[K     |████████████████████████████████| 17.5 MB 26.2 MB/s \n",
            "\u001b[?25h  Downloading aim-3.8.0-cp37-cp37m-manylinux_2_24_x86_64.whl (17.5 MB)\n",
            "\u001b[K     |████████████████████████████████| 17.5 MB 31.0 MB/s \n",
            "\u001b[?25h  Downloading aim-3.7.5-cp37-cp37m-manylinux_2_24_x86_64.whl (22.7 MB)\n",
            "\u001b[K     |████████████████████████████████| 22.7 MB 319 kB/s \n",
            "\u001b[?25h  Downloading aim-3.7.4-cp37-cp37m-manylinux_2_24_x86_64.whl (22.7 MB)\n",
            "\u001b[K     |████████████████████████████████| 22.7 MB 43.4 MB/s \n",
            "\u001b[?25h  Downloading aim-3.7.3-cp37-cp37m-manylinux_2_24_x86_64.whl (22.7 MB)\n",
            "\u001b[K     |████████████████████████████████| 22.7 MB 1.1 MB/s \n",
            "\u001b[?25h  Downloading aim-3.7.2-cp37-cp37m-manylinux_2_24_x86_64.whl (22.7 MB)\n",
            "\u001b[K     |████████████████████████████████| 22.7 MB 28.2 MB/s \n",
            "\u001b[?25h  Downloading aim-3.7.1-cp37-cp37m-manylinux_2_24_x86_64.whl (17.8 MB)\n",
            "\u001b[K     |████████████████████████████████| 17.8 MB 39.1 MB/s \n",
            "\u001b[?25h  Downloading aim-3.7.0-cp37-cp37m-manylinux_2_24_x86_64.whl (17.8 MB)\n",
            "\u001b[K     |████████████████████████████████| 17.8 MB 23.8 MB/s \n",
            "\u001b[?25h  Downloading aim-3.6.3-cp37-cp37m-manylinux_2_24_x86_64.whl (20.6 MB)\n",
            "\u001b[K     |████████████████████████████████| 20.6 MB 600 kB/s \n",
            "\u001b[?25hCollecting async-generator>=1.0\n",
            "  Downloading async_generator-1.10-py3-none-any.whl (18 kB)\n",
            "Collecting GitPython>=3.0.4\n",
            "  Downloading GitPython-3.1.27-py3-none-any.whl (181 kB)\n",
            "\u001b[K     |████████████████████████████████| 181 kB 92.2 MB/s \n",
            "\u001b[?25hCollecting aimrocks==0.0.10\n",
            "  Downloading aimrocks-0.0.10-cp37-cp37m-manylinux_2_24_x86_64.whl (4.9 MB)\n",
            "\u001b[K     |████████████████████████████████| 4.9 MB 52.1 MB/s \n",
            "\u001b[?25hRequirement already satisfied: protobuf>=3.11.0 in /usr/local/lib/python3.7/dist-packages (from aim->stylegan2_pytorch) (3.17.3)\n",
            "Collecting RestrictedPython>=5.1\n",
            "  Downloading RestrictedPython-5.2-py2.py3-none-any.whl (28 kB)\n",
            "Collecting aiofiles>=0.5.0\n",
            "  Downloading aiofiles-0.8.0-py3-none-any.whl (13 kB)\n",
            "Collecting async-exit-stack>=1.0.0\n",
            "  Downloading async_exit_stack-1.0.1-py3-none-any.whl (4.7 kB)\n",
            "Requirement already satisfied: pytz>=2019.1 in /usr/local/lib/python3.7/dist-packages (from aim->stylegan2_pytorch) (2022.1)\n",
            "Collecting cryptography>=3.0\n",
            "  Downloading cryptography-37.0.2-cp36-abi3-manylinux_2_24_x86_64.whl (4.0 MB)\n",
            "\u001b[K     |████████████████████████████████| 4.0 MB 16.5 MB/s \n",
            "\u001b[?25hCollecting py3nvml>=0.2.5\n",
            "  Downloading py3nvml-0.2.7-py3-none-any.whl (55 kB)\n",
            "\u001b[K     |████████████████████████████████| 55 kB 4.9 MB/s \n",
            "\u001b[?25hRequirement already satisfied: SQLAlchemy>=1.4.1 in /usr/local/lib/python3.7/dist-packages (from aim->stylegan2_pytorch) (1.4.36)\n",
            "Collecting base58==2.0.1\n",
            "  Downloading base58-2.0.1-py3-none-any.whl (4.3 kB)\n",
            "Requirement already satisfied: six>=1.5.2 in /usr/local/lib/python3.7/dist-packages (from grpcio==1.42.0->aim->stylegan2_pytorch) (1.15.0)\n",
            "Requirement already satisfied: importlib-resources in /usr/local/lib/python3.7/dist-packages (from alembic>=1.4.0->aim->stylegan2_pytorch) (5.7.1)\n",
            "Requirement already satisfied: importlib-metadata in /usr/local/lib/python3.7/dist-packages (from alembic>=1.4.0->aim->stylegan2_pytorch) (4.11.3)\n",
            "Collecting Mako\n",
            "  Downloading Mako-1.1.6-py2.py3-none-any.whl (75 kB)\n",
            "\u001b[K     |████████████████████████████████| 75 kB 5.9 MB/s \n",
            "\u001b[?25hRequirement already satisfied: cffi>=1.12 in /usr/local/lib/python3.7/dist-packages (from cryptography>=3.0->aim->stylegan2_pytorch) (1.15.0)\n",
            "Requirement already satisfied: pycparser in /usr/local/lib/python3.7/dist-packages (from cffi>=1.12->cryptography>=3.0->aim->stylegan2_pytorch) (2.21)\n",
            "Collecting starlette==0.14.2\n",
            "  Downloading starlette-0.14.2-py3-none-any.whl (60 kB)\n",
            "\u001b[K     |████████████████████████████████| 60 kB 9.8 MB/s \n",
            "\u001b[?25hCollecting pydantic!=1.7,!=1.7.1,!=1.7.2,!=1.7.3,!=1.8,!=1.8.1,<2.0.0,>=1.6.2\n",
            "  Downloading pydantic-1.9.1-cp37-cp37m-manylinux_2_17_x86_64.manylinux2014_x86_64.whl (11.1 MB)\n",
            "\u001b[K     |████████████████████████████████| 11.1 MB 61.7 MB/s \n",
            "\u001b[?25hCollecting gitdb<5,>=4.0.1\n",
            "  Downloading gitdb-4.0.9-py3-none-any.whl (63 kB)\n",
            "\u001b[K     |████████████████████████████████| 63 kB 2.4 MB/s \n",
            "\u001b[?25hCollecting smmap<6,>=3.0.1\n",
            "  Downloading smmap-5.0.0-py3-none-any.whl (24 kB)\n",
            "Requirement already satisfied: MarkupSafe>=0.23 in /usr/local/lib/python3.7/dist-packages (from jinja2>=2.10.0->aim->stylegan2_pytorch) (2.0.1)\n",
            "Requirement already satisfied: pyparsing!=3.0.5,>=2.0.2 in /usr/local/lib/python3.7/dist-packages (from packaging->kornia>=0.5.4->stylegan2_pytorch) (3.0.9)\n",
            "Collecting xmltodict\n",
            "  Downloading xmltodict-0.12.0-py2.py3-none-any.whl (9.2 kB)\n",
            "Requirement already satisfied: greenlet!=0.4.17 in /usr/local/lib/python3.7/dist-packages (from SQLAlchemy>=1.4.1->aim->stylegan2_pytorch) (1.1.2)\n",
            "Collecting h11>=0.8\n",
            "  Downloading h11-0.13.0-py3-none-any.whl (58 kB)\n",
            "\u001b[K     |████████████████████████████████| 58 kB 7.7 MB/s \n",
            "\u001b[?25hCollecting asgiref>=3.4.0\n",
            "  Downloading asgiref-3.5.2-py3-none-any.whl (22 kB)\n",
            "Requirement already satisfied: termcolor in /usr/local/lib/python3.7/dist-packages (from fire->stylegan2_pytorch) (1.1.0)\n",
            "Requirement already satisfied: zipp>=0.5 in /usr/local/lib/python3.7/dist-packages (from importlib-metadata->alembic>=1.4.0->aim->stylegan2_pytorch) (3.8.0)\n",
            "Requirement already satisfied: decorator>=3.4.2 in /usr/local/lib/python3.7/dist-packages (from retry->stylegan2_pytorch) (4.4.2)\n",
            "Requirement already satisfied: py<2.0.0,>=1.4.26 in /usr/local/lib/python3.7/dist-packages (from retry->stylegan2_pytorch) (1.11.0)\n",
            "Requirement already satisfied: requests in /usr/local/lib/python3.7/dist-packages (from torchvision->stylegan2_pytorch) (2.23.0)\n",
            "Requirement already satisfied: urllib3!=1.25.0,!=1.25.1,<1.26,>=1.21.1 in /usr/local/lib/python3.7/dist-packages (from requests->torchvision->stylegan2_pytorch) (1.24.3)\n",
            "Requirement already satisfied: idna<3,>=2.5 in /usr/local/lib/python3.7/dist-packages (from requests->torchvision->stylegan2_pytorch) (2.10)\n",
            "Requirement already satisfied: certifi>=2017.4.17 in /usr/local/lib/python3.7/dist-packages (from requests->torchvision->stylegan2_pytorch) (2021.10.8)\n",
            "Requirement already satisfied: chardet<4,>=3.0.2 in /usr/local/lib/python3.7/dist-packages (from requests->torchvision->stylegan2_pytorch) (3.0.4)\n",
            "Building wheels for collected packages: vector-quantize-pytorch\n",
            "  Building wheel for vector-quantize-pytorch (setup.py) ... \u001b[?25l\u001b[?25hdone\n",
            "  Created wheel for vector-quantize-pytorch: filename=vector_quantize_pytorch-0.1.0-py3-none-any.whl size=2573 sha256=bd3a4c6fd92a48995c63f8ef044d15e910deea624ba7be75cbb12562ab965f23\n",
            "  Stored in directory: /root/.cache/pip/wheels/49/64/b7/87e6be2404be714b455ec968100c0071b61913566e9363feb1\n",
            "Successfully built vector-quantize-pytorch\n",
            "Installing collected packages: smmap, xmltodict, starlette, pydantic, Mako, h11, gitdb, base58, asgiref, uvicorn, RestrictedPython, py3nvml, psutil, pillow, grpcio, GitPython, fastapi, cryptography, async-generator, async-exit-stack, alembic, aiofiles, aimrocks, aimrecords, vector-quantize-pytorch, contrastive-learner, aim, stylegan2-pytorch\n",
            "  Attempting uninstall: psutil\n",
            "    Found existing installation: psutil 5.4.8\n",
            "    Uninstalling psutil-5.4.8:\n",
            "      Successfully uninstalled psutil-5.4.8\n",
            "  Attempting uninstall: pillow\n",
            "    Found existing installation: Pillow 7.1.2\n",
            "    Uninstalling Pillow-7.1.2:\n",
            "      Successfully uninstalled Pillow-7.1.2\n",
            "  Attempting uninstall: grpcio\n",
            "    Found existing installation: grpcio 1.46.1\n",
            "    Uninstalling grpcio-1.46.1:\n",
            "      Successfully uninstalled grpcio-1.46.1\n",
            "\u001b[31mERROR: pip's dependency resolver does not currently take into account all the packages that are installed. This behaviour is the source of the following dependency conflicts.\n",
            "tensorflow 2.8.0+zzzcolab20220506162203 requires tf-estimator-nightly==2.8.0.dev2021122109, which is not installed.\n",
            "albumentations 0.1.12 requires imgaug<0.2.7,>=0.2.5, but you have imgaug 0.2.9 which is incompatible.\u001b[0m\n",
            "Successfully installed GitPython-3.1.27 Mako-1.1.6 RestrictedPython-5.2 aim-3.6.3 aimrecords-0.0.7 aimrocks-0.0.10 aiofiles-0.8.0 alembic-1.7.7 asgiref-3.5.2 async-exit-stack-1.0.1 async-generator-1.10 base58-2.0.1 contrastive-learner-0.1.1 cryptography-37.0.2 fastapi-0.67.0 gitdb-4.0.9 grpcio-1.42.0 h11-0.13.0 pillow-9.1.1 psutil-5.9.1 py3nvml-0.2.7 pydantic-1.9.1 smmap-5.0.0 starlette-0.14.2 stylegan2-pytorch-1.8.7 uvicorn-0.17.6 vector-quantize-pytorch-0.1.0 xmltodict-0.12.0\n"
          ]
        },
        {
          "data": {
            "application/vnd.colab-display-data+json": {
              "pip_warning": {
                "packages": [
                  "PIL",
                  "psutil"
                ]
              }
            }
          },
          "metadata": {},
          "output_type": "display_data"
        }
      ],
      "source": [
        "!pip install stylegan2_pytorch"
      ]
    },
    {
      "cell_type": "code",
      "execution_count": null,
      "metadata": {
        "colab": {
          "base_uri": "https://localhost:8080/"
        },
        "id": "jx9TNrIkz-D9",
        "outputId": "e3bfe7af-eb01-4256-950d-6877f044b6cd"
      },
      "outputs": [
        {
          "name": "stdout",
          "output_type": "stream",
          "text": [
            "continuing from previous epoch - 0\n",
            "loading from version 1.8.8\n",
            "anime-girl</content/drive/MyDrive/Colab Notebooks/StyleGan2/imgs/anime_girl_imgs/Training_imgs>:   0% 0/150000 [00:00<?, ?it/s]Traceback (most recent call last):\n",
            "  File \"/usr/local/bin/stylegan2_pytorch\", line 8, in <module>\n",
            "    sys.exit(main())\n",
            "  File \"/usr/local/lib/python3.7/dist-packages/stylegan2_pytorch/cli.py\", line 190, in main\n",
            "    fire.Fire(train_from_folder)\n",
            "  File \"/usr/local/lib/python3.7/dist-packages/fire/core.py\", line 141, in Fire\n",
            "    component_trace = _Fire(component, args, parsed_flag_args, context, name)\n",
            "  File \"/usr/local/lib/python3.7/dist-packages/fire/core.py\", line 471, in _Fire\n",
            "    target=component.__name__)\n",
            "  File \"/usr/local/lib/python3.7/dist-packages/fire/core.py\", line 681, in _CallAndUpdateTrace\n",
            "    component = fn(*varargs, **kwargs)\n",
            "  File \"/usr/local/lib/python3.7/dist-packages/stylegan2_pytorch/cli.py\", line 181, in train_from_folder\n",
            "    run_training(0, 1, model_args, data, load_from, new, num_train_steps, name, seed)\n",
            "  File \"/usr/local/lib/python3.7/dist-packages/stylegan2_pytorch/cli.py\", line 60, in run_training\n",
            "    retry_call(model.train, tries=3, exceptions=NanException)\n",
            "  File \"/usr/local/lib/python3.7/dist-packages/retry/api.py\", line 101, in retry_call\n",
            "    return __retry_internal(partial(f, *args, **kwargs), exceptions, tries, delay, max_delay, backoff, jitter, logger)\n",
            "  File \"/usr/local/lib/python3.7/dist-packages/retry/api.py\", line 33, in __retry_internal\n",
            "    return f()\n",
            "  File \"/usr/local/lib/python3.7/dist-packages/stylegan2_pytorch/stylegan2_pytorch.py\", line 1150, in train\n",
            "    self.evaluate(floor(self.steps / self.evaluate_every))\n",
            "  File \"/usr/local/lib/python3.7/dist-packages/torch/autograd/grad_mode.py\", line 27, in decorate_context\n",
            "    return func(*args, **kwargs)\n",
            "  File \"/usr/local/lib/python3.7/dist-packages/stylegan2_pytorch/stylegan2_pytorch.py\", line 1206, in evaluate\n",
            "    torchvision.utils.save_image(generated_images, str(self.results_dir / self.name / f'{str(num)}-mr.{ext}'), nrow=num_rows)\n",
            "  File \"/usr/local/lib/python3.7/dist-packages/torch/autograd/grad_mode.py\", line 27, in decorate_context\n",
            "    return func(*args, **kwargs)\n",
            "  File \"/usr/local/lib/python3.7/dist-packages/torchvision/utils.py\", line 155, in save_image\n",
            "    im = Image.fromarray(ndarr)\n",
            "  File \"/usr/local/lib/python3.7/dist-packages/PIL/Image.py\", line 2945, in fromarray\n",
            "    obj = obj.tobytes()\n",
            "KeyboardInterrupt\n",
            "anime-girl</content/drive/MyDrive/Colab Notebooks/StyleGan2/imgs/anime_girl_imgs/Training_imgs>:   0% 0/150000 [02:33<?, ?it/s]\n"
          ]
        }
      ],
      "source": [
        "!stylegan2_pytorch --data \"/content/drive/MyDrive/Colab Notebooks/StyleGan2/imgs/anime_girl_imgs/Training_imgs\" --image-size 256 --name anime-girl --results_dir \"/content/drive/MyDrive/Colab Notebooks/StyleGan2/result_imgs\" --models_dir \"/content/drive/MyDrive/Colab Notebooks/StyleGan2/models\""
      ]
    },
    {
      "cell_type": "code",
      "execution_count": null,
      "metadata": {
        "colab": {
          "base_uri": "https://localhost:8080/"
        },
        "id": "NHeCGYGy4ySz",
        "outputId": "1adb39a0-f6cd-4844-a82b-bab9ac4a2606"
      },
      "outputs": [
        {
          "name": "stdout",
          "output_type": "stream",
          "text": [
            "100% 1/1 [00:16<00:00, 16.61s/it]\n",
            "sample images generated at ./results/anime-girl/generated-05-14-2022_06-50-13\n"
          ]
        }
      ],
      "source": [
        "!stylegan2_pytorch --generate --data \"/content/drive/MyDrive/Colab Notebooks/StyleGan2/imgs/anime_girl_imgs\" --name anime-girl "
      ]
    },
    {
      "cell_type": "markdown",
      "metadata": {
        "id": "bmNY6Ppzzwt8"
      },
      "source": [
        "## lightweightGAN"
      ]
    },
    {
      "cell_type": "code",
      "execution_count": null,
      "metadata": {
        "colab": {
          "base_uri": "https://localhost:8080/"
        },
        "id": "MBYN2iSZ_mJ7",
        "outputId": "0c068294-8840-489f-fabc-779cde7820b7"
      },
      "outputs": [
        {
          "output_type": "stream",
          "name": "stdout",
          "text": [
            "Looking in indexes: https://pypi.org/simple, https://us-python.pkg.dev/colab-wheels/public/simple/\n",
            "Collecting kornia==0.5.4\n",
            "  Downloading kornia-0.5.4-py2.py3-none-any.whl (285 kB)\n",
            "\u001b[K     |████████████████████████████████| 285 kB 5.1 MB/s \n",
            "\u001b[?25hRequirement already satisfied: numpy in /usr/local/lib/python3.7/dist-packages (from kornia==0.5.4) (1.21.6)\n",
            "Requirement already satisfied: torch>=1.6.0 in /usr/local/lib/python3.7/dist-packages (from kornia==0.5.4) (1.11.0+cu113)\n",
            "Requirement already satisfied: typing-extensions in /usr/local/lib/python3.7/dist-packages (from torch>=1.6.0->kornia==0.5.4) (4.2.0)\n",
            "Installing collected packages: kornia\n",
            "Successfully installed kornia-0.5.4\n"
          ]
        },
        {
          "output_type": "stream",
          "name": "stderr",
          "text": [
            "/usr/local/lib/python3.7/dist-packages/kornia/augmentation/augmentation.py:1833: DeprecationWarning: GaussianBlur is no longer maintained and will be removed from the future versions. Please use RandomGaussianBlur instead.\n",
            "  category=DeprecationWarning,\n"
          ]
        }
      ],
      "source": [
        "!pip install kornia==0.5.4\n",
        "from kornia.filters import filter2d #errorが出るならこのセルを試してみること"
      ]
    },
    {
      "cell_type": "code",
      "execution_count": 5,
      "metadata": {
        "colab": {
          "base_uri": "https://localhost:8080/"
        },
        "id": "BMo-pPD6UvsK",
        "outputId": "ac477cff-0317-4d0f-cd7b-17635072f20d"
      },
      "outputs": [
        {
          "output_type": "stream",
          "name": "stdout",
          "text": [
            "Looking in indexes: https://pypi.org/simple, https://us-python.pkg.dev/colab-wheels/public/simple/\n",
            "Collecting lightweight-gan\n",
            "  Downloading lightweight_gan-0.23.2-py3-none-any.whl (20 kB)\n",
            "Requirement already satisfied: numpy in /usr/local/lib/python3.7/dist-packages (from lightweight-gan) (1.21.6)\n",
            "Collecting fire\n",
            "  Downloading fire-0.4.0.tar.gz (87 kB)\n",
            "\u001b[K     |████████████████████████████████| 87 kB 3.5 MB/s \n",
            "\u001b[?25hRequirement already satisfied: kornia>=0.5.4 in /usr/local/lib/python3.7/dist-packages (from lightweight-gan) (0.5.4)\n",
            "Requirement already satisfied: torchvision in /usr/local/lib/python3.7/dist-packages (from lightweight-gan) (0.12.0+cu113)\n",
            "Collecting retry\n",
            "  Downloading retry-0.9.2-py2.py3-none-any.whl (8.0 kB)\n",
            "Requirement already satisfied: torch>=1.10 in /usr/local/lib/python3.7/dist-packages (from lightweight-gan) (1.11.0+cu113)\n",
            "Requirement already satisfied: tqdm in /usr/local/lib/python3.7/dist-packages (from lightweight-gan) (4.64.0)\n",
            "Collecting einops>=0.3\n",
            "  Downloading einops-0.4.1-py3-none-any.whl (28 kB)\n",
            "Collecting adabelief-pytorch\n",
            "  Downloading adabelief_pytorch-0.2.1-py3-none-any.whl (5.8 kB)\n",
            "Requirement already satisfied: pillow in /usr/local/lib/python3.7/dist-packages (from lightweight-gan) (7.1.2)\n",
            "Requirement already satisfied: typing-extensions in /usr/local/lib/python3.7/dist-packages (from torch>=1.10->lightweight-gan) (4.2.0)\n",
            "Requirement already satisfied: tabulate>=0.7 in /usr/local/lib/python3.7/dist-packages (from adabelief-pytorch->lightweight-gan) (0.8.9)\n",
            "Collecting colorama>=0.4.0\n",
            "  Downloading colorama-0.4.4-py2.py3-none-any.whl (16 kB)\n",
            "Requirement already satisfied: six in /usr/local/lib/python3.7/dist-packages (from fire->lightweight-gan) (1.15.0)\n",
            "Requirement already satisfied: termcolor in /usr/local/lib/python3.7/dist-packages (from fire->lightweight-gan) (1.1.0)\n",
            "Requirement already satisfied: py<2.0.0,>=1.4.26 in /usr/local/lib/python3.7/dist-packages (from retry->lightweight-gan) (1.11.0)\n",
            "Requirement already satisfied: decorator>=3.4.2 in /usr/local/lib/python3.7/dist-packages (from retry->lightweight-gan) (4.4.2)\n",
            "Requirement already satisfied: requests in /usr/local/lib/python3.7/dist-packages (from torchvision->lightweight-gan) (2.23.0)\n",
            "Requirement already satisfied: idna<3,>=2.5 in /usr/local/lib/python3.7/dist-packages (from requests->torchvision->lightweight-gan) (2.10)\n",
            "Requirement already satisfied: chardet<4,>=3.0.2 in /usr/local/lib/python3.7/dist-packages (from requests->torchvision->lightweight-gan) (3.0.4)\n",
            "Requirement already satisfied: urllib3!=1.25.0,!=1.25.1,<1.26,>=1.21.1 in /usr/local/lib/python3.7/dist-packages (from requests->torchvision->lightweight-gan) (1.24.3)\n",
            "Requirement already satisfied: certifi>=2017.4.17 in /usr/local/lib/python3.7/dist-packages (from requests->torchvision->lightweight-gan) (2022.5.18.1)\n",
            "Building wheels for collected packages: fire\n",
            "  Building wheel for fire (setup.py) ... \u001b[?25l\u001b[?25hdone\n",
            "  Created wheel for fire: filename=fire-0.4.0-py2.py3-none-any.whl size=115942 sha256=aacbde08fb7ed5d4626d344d01af2b79300d5fcbd6d7e83483adde6c36f88f29\n",
            "  Stored in directory: /root/.cache/pip/wheels/8a/67/fb/2e8a12fa16661b9d5af1f654bd199366799740a85c64981226\n",
            "Successfully built fire\n",
            "Installing collected packages: colorama, retry, fire, einops, adabelief-pytorch, lightweight-gan\n",
            "Successfully installed adabelief-pytorch-0.2.1 colorama-0.4.4 einops-0.4.1 fire-0.4.0 lightweight-gan-0.23.2 retry-0.9.2\n"
          ]
        }
      ],
      "source": [
        "!pip install lightweight-gan\n",
        "#--name name_which_you_wantでアウトプットの名前を付けるとあとで再利用がしやすそう、デフォルトはdefault\n",
        "#画像はリサイズすること！！！"
      ]
    },
    {
      "cell_type": "code",
      "execution_count": null,
      "metadata": {
        "colab": {
          "base_uri": "https://localhost:8080/"
        },
        "id": "_eZulWyAz2JC",
        "outputId": "fa079fe9-4d5c-4c74-de60-27121332f6de"
      },
      "outputs": [
        {
          "output_type": "stream",
          "name": "stdout",
          "text": [
            "/usr/local/lib/python3.7/dist-packages/kornia/augmentation/augmentation.py:1833: DeprecationWarning: GaussianBlur is no longer maintained and will be removed from the future versions. Please use RandomGaussianBlur instead.\n",
            "  category=DeprecationWarning,\n",
            "continuing from previous epoch - 70\n",
            "loading from version 0.23.2\n",
            "anime_girl</content/drive/MyDrive/Colab Notebooks/StyleGan2/imgs/anime_girl_imgs/Training_imgs>:  47% 70050/150000 [04:18<115:01:53,  5.18s/it]G: 2.31 | D: 0.11 | GP: 0.15 | SS: 0.04\n",
            "anime_girl</content/drive/MyDrive/Colab Notebooks/StyleGan2/imgs/anime_girl_imgs/Training_imgs>:  47% 70100/150000 [08:23<111:50:27,  5.04s/it]G: 1.86 | D: 0.32 | GP: 0.24 | SS: 0.02\n",
            "anime_girl</content/drive/MyDrive/Colab Notebooks/StyleGan2/imgs/anime_girl_imgs/Training_imgs>:  47% 70150/150000 [12:33<111:22:53,  5.02s/it]G: 2.08 | D: 0.34 | GP: 0.33 | SS: 0.02\n",
            "anime_girl</content/drive/MyDrive/Colab Notebooks/StyleGan2/imgs/anime_girl_imgs/Training_imgs>:  47% 70200/150000 [16:38<110:38:34,  4.99s/it]G: 2.00 | D: 0.30 | GP: 0.22 | SS: 0.06\n",
            "anime_girl</content/drive/MyDrive/Colab Notebooks/StyleGan2/imgs/anime_girl_imgs/Training_imgs>:  47% 70250/150000 [20:47<110:32:41,  4.99s/it]G: 1.94 | D: 0.10 | GP: 0.61 | SS: 0.02\n",
            "anime_girl</content/drive/MyDrive/Colab Notebooks/StyleGan2/imgs/anime_girl_imgs/Training_imgs>:  47% 70300/150000 [24:52<110:07:37,  4.97s/it]G: 2.14 | D: 0.47 | GP: 0.13 | SS: 0.03\n",
            "anime_girl</content/drive/MyDrive/Colab Notebooks/StyleGan2/imgs/anime_girl_imgs/Training_imgs>:  47% 70350/150000 [29:01<110:04:56,  4.98s/it]G: 2.07 | D: 0.10 | GP: 0.10 | SS: 0.02\n",
            "anime_girl</content/drive/MyDrive/Colab Notebooks/StyleGan2/imgs/anime_girl_imgs/Training_imgs>:  47% 70400/150000 [33:06<109:48:42,  4.97s/it]G: 1.90 | D: 0.30 | GP: 0.13 | SS: 0.01\n",
            "anime_girl</content/drive/MyDrive/Colab Notebooks/StyleGan2/imgs/anime_girl_imgs/Training_imgs>:  47% 70450/150000 [37:15<109:47:01,  4.97s/it]G: 0.91 | D: 0.82 | GP: 1.63 | SS: 0.03\n",
            "anime_girl</content/drive/MyDrive/Colab Notebooks/StyleGan2/imgs/anime_girl_imgs/Training_imgs>:  47% 70500/150000 [41:21<109:34:39,  4.96s/it]G: 3.25 | D: 0.57 | GP: 1.28 | SS: 0.02\n",
            "anime_girl</content/drive/MyDrive/Colab Notebooks/StyleGan2/imgs/anime_girl_imgs/Training_imgs>:  47% 70550/150000 [45:29<109:32:02,  4.96s/it]G: 1.92 | D: 0.07 | GP: 0.17 | SS: 0.02\n",
            "anime_girl</content/drive/MyDrive/Colab Notebooks/StyleGan2/imgs/anime_girl_imgs/Training_imgs>:  47% 70600/150000 [49:34<109:21:28,  4.96s/it]G: 2.44 | D: 0.02 | GP: 0.63 | SS: 0.02\n",
            "anime_girl</content/drive/MyDrive/Colab Notebooks/StyleGan2/imgs/anime_girl_imgs/Training_imgs>:  47% 70650/150000 [53:43<109:19:02,  4.96s/it]G: 2.35 | D: 0.62 | GP: 0.10 | SS: 0.04\n",
            "anime_girl</content/drive/MyDrive/Colab Notebooks/StyleGan2/imgs/anime_girl_imgs/Training_imgs>:  47% 70700/150000 [57:49<109:10:07,  4.96s/it]G: 1.45 | D: 0.43 | GP: 0.09 | SS: 0.02\n",
            "anime_girl</content/drive/MyDrive/Colab Notebooks/StyleGan2/imgs/anime_girl_imgs/Training_imgs>:  47% 70750/150000 [1:01:57<109:07:29,  4.96s/it]G: 2.17 | D: 0.10 | GP: 0.02 | SS: 0.02\n",
            "anime_girl</content/drive/MyDrive/Colab Notebooks/StyleGan2/imgs/anime_girl_imgs/Training_imgs>:  47% 70800/150000 [1:06:03<108:59:05,  4.95s/it]G: 2.47 | D: 0.06 | GP: 0.19 | SS: 0.02\n",
            "anime_girl</content/drive/MyDrive/Colab Notebooks/StyleGan2/imgs/anime_girl_imgs/Training_imgs>:  47% 70850/150000 [1:10:11<108:56:40,  4.96s/it]G: 1.94 | D: 0.23 | GP: 0.18 | SS: 0.02\n",
            "anime_girl</content/drive/MyDrive/Colab Notebooks/StyleGan2/imgs/anime_girl_imgs/Training_imgs>:  47% 70900/150000 [1:14:16<108:48:34,  4.95s/it]G: 2.07 | D: 0.67 | GP: 0.15 | SS: 0.03\n",
            "anime_girl</content/drive/MyDrive/Colab Notebooks/StyleGan2/imgs/anime_girl_imgs/Training_imgs>:  47% 70950/150000 [1:18:26<108:46:30,  4.95s/it]G: 1.80 | D: 0.50 | GP: 0.53 | SS: 0.03\n",
            "anime_girl</content/drive/MyDrive/Colab Notebooks/StyleGan2/imgs/anime_girl_imgs/Training_imgs>:  47% 71000/150000 [1:22:31<108:38:49,  4.95s/it]G: 2.22 | D: 0.27 | GP: 0.15 | SS: 0.04\n",
            "anime_girl</content/drive/MyDrive/Colab Notebooks/StyleGan2/imgs/anime_girl_imgs/Training_imgs>:  47% 71050/150000 [1:26:46<108:45:01,  4.96s/it]G: 2.76 | D: 0.26 | GP: 0.13 | SS: 0.02\n",
            "anime_girl</content/drive/MyDrive/Colab Notebooks/StyleGan2/imgs/anime_girl_imgs/Training_imgs>:  47% 71100/150000 [1:30:51<108:37:14,  4.96s/it]G: 1.57 | D: 0.87 | GP: 0.17 | SS: 0.05\n",
            "anime_girl</content/drive/MyDrive/Colab Notebooks/StyleGan2/imgs/anime_girl_imgs/Training_imgs>:  47% 71150/150000 [1:35:00<108:34:49,  4.96s/it]G: 1.24 | D: 0.44 | GP: 0.19 | SS: 0.04\n",
            "anime_girl</content/drive/MyDrive/Colab Notebooks/StyleGan2/imgs/anime_girl_imgs/Training_imgs>:  47% 71200/150000 [1:39:06<108:27:35,  4.96s/it]G: 1.38 | D: 0.01 | GP: 0.16 | SS: 0.02\n",
            "anime_girl</content/drive/MyDrive/Colab Notebooks/StyleGan2/imgs/anime_girl_imgs/Training_imgs>:  48% 71250/150000 [1:43:14<108:24:31,  4.96s/it]G: 1.76 | D: 0.31 | GP: 0.31 | SS: 0.02\n",
            "anime_girl</content/drive/MyDrive/Colab Notebooks/StyleGan2/imgs/anime_girl_imgs/Training_imgs>:  48% 71300/150000 [1:47:19<108:17:43,  4.95s/it]G: 2.90 | D: 0.47 | GP: 0.63 | SS: 0.02\n",
            "anime_girl</content/drive/MyDrive/Colab Notebooks/StyleGan2/imgs/anime_girl_imgs/Training_imgs>:  48% 71350/150000 [1:51:28<108:14:25,  4.95s/it]G: 1.23 | D: 0.21 | GP: 0.09 | SS: 0.02\n",
            "anime_girl</content/drive/MyDrive/Colab Notebooks/StyleGan2/imgs/anime_girl_imgs/Training_imgs>:  48% 71400/150000 [1:55:33<108:07:49,  4.95s/it]G: 2.00 | D: 0.32 | GP: 1.01 | SS: 0.02\n",
            "anime_girl</content/drive/MyDrive/Colab Notebooks/StyleGan2/imgs/anime_girl_imgs/Training_imgs>:  48% 71450/150000 [1:59:41<108:04:14,  4.95s/it]G: 2.29 | D: 0.80 | GP: 0.08 | SS: 0.02\n",
            "anime_girl</content/drive/MyDrive/Colab Notebooks/StyleGan2/imgs/anime_girl_imgs/Training_imgs>:  48% 71500/150000 [2:03:46<107:57:44,  4.95s/it]G: 2.54 | D: 0.46 | GP: 0.35 | SS: 0.02\n",
            "anime_girl</content/drive/MyDrive/Colab Notebooks/StyleGan2/imgs/anime_girl_imgs/Training_imgs>:  48% 71550/150000 [2:07:55<107:54:21,  4.95s/it]G: 2.42 | D: 0.02 | GP: 0.65 | SS: 0.02\n",
            "anime_girl</content/drive/MyDrive/Colab Notebooks/StyleGan2/imgs/anime_girl_imgs/Training_imgs>:  48% 71600/150000 [2:12:00<107:48:10,  4.95s/it]G: 1.42 | D: 0.10 | GP: 0.12 | SS: 0.02\n",
            "anime_girl</content/drive/MyDrive/Colab Notebooks/StyleGan2/imgs/anime_girl_imgs/Training_imgs>:  48% 71650/150000 [2:16:08<107:44:48,  4.95s/it]G: 3.16 | D: 0.13 | GP: 0.03 | SS: 0.02\n",
            "anime_girl</content/drive/MyDrive/Colab Notebooks/StyleGan2/imgs/anime_girl_imgs/Training_imgs>:  48% 71700/150000 [2:20:13<107:38:46,  4.95s/it]G: 2.90 | D: 0.14 | GP: 0.24 | SS: 0.02\n",
            "anime_girl</content/drive/MyDrive/Colab Notebooks/StyleGan2/imgs/anime_girl_imgs/Training_imgs>:  48% 71750/150000 [2:24:22<107:35:43,  4.95s/it]G: 1.53 | D: 0.27 | GP: 0.41 | SS: 0.03\n",
            "anime_girl</content/drive/MyDrive/Colab Notebooks/StyleGan2/imgs/anime_girl_imgs/Training_imgs>:  48% 71800/150000 [2:28:27<107:29:45,  4.95s/it]G: 1.16 | D: 1.15 | GP: 0.18 | SS: 0.02\n",
            "anime_girl</content/drive/MyDrive/Colab Notebooks/StyleGan2/imgs/anime_girl_imgs/Training_imgs>:  48% 71850/150000 [2:32:36<107:26:51,  4.95s/it]G: 2.03 | D: 0.13 | GP: 0.15 | SS: 0.02\n",
            "anime_girl</content/drive/MyDrive/Colab Notebooks/StyleGan2/imgs/anime_girl_imgs/Training_imgs>:  48% 71900/150000 [2:36:41<107:21:00,  4.95s/it]G: 1.84 | D: 0.00 | GP: 0.11 | SS: 0.01\n",
            "anime_girl</content/drive/MyDrive/Colab Notebooks/StyleGan2/imgs/anime_girl_imgs/Training_imgs>:  48% 71950/150000 [2:40:50<107:17:54,  4.95s/it]G: 1.78 | D: 0.71 | GP: 0.65 | SS: 0.01\n",
            "anime_girl</content/drive/MyDrive/Colab Notebooks/StyleGan2/imgs/anime_girl_imgs/Training_imgs>:  48% 72000/150000 [2:44:55<107:12:04,  4.95s/it]G: 1.85 | D: 0.74 | GP: 0.22 | SS: 0.03\n",
            "anime_girl</content/drive/MyDrive/Colab Notebooks/StyleGan2/imgs/anime_girl_imgs/Training_imgs>:  48% 72050/150000 [2:49:09<107:12:21,  4.95s/it]G: 1.91 | D: 0.49 | GP: 0.03 | SS: 0.03\n",
            "anime_girl</content/drive/MyDrive/Colab Notebooks/StyleGan2/imgs/anime_girl_imgs/Training_imgs>:  48% 72100/150000 [2:53:15<107:06:53,  4.95s/it]G: 2.00 | D: 0.36 | GP: 0.08 | SS: 0.02\n",
            "anime_girl</content/drive/MyDrive/Colab Notebooks/StyleGan2/imgs/anime_girl_imgs/Training_imgs>:  48% 72150/150000 [2:57:23<107:03:25,  4.95s/it]G: 1.70 | D: 0.57 | GP: 0.06 | SS: 0.02\n",
            "anime_girl</content/drive/MyDrive/Colab Notebooks/StyleGan2/imgs/anime_girl_imgs/Training_imgs>:  48% 72200/150000 [3:01:28<106:57:42,  4.95s/it]G: 1.31 | D: 0.01 | GP: 0.12 | SS: 0.02\n",
            "anime_girl</content/drive/MyDrive/Colab Notebooks/StyleGan2/imgs/anime_girl_imgs/Training_imgs>:  48% 72250/150000 [3:05:37<106:54:16,  4.95s/it]G: 1.13 | D: 0.31 | GP: 0.79 | SS: 0.03\n",
            "anime_girl</content/drive/MyDrive/Colab Notebooks/StyleGan2/imgs/anime_girl_imgs/Training_imgs>:  48% 72300/150000 [3:09:42<106:48:46,  4.95s/it]G: 2.53 | D: 0.09 | GP: 0.05 | SS: 0.02\n",
            "anime_girl</content/drive/MyDrive/Colab Notebooks/StyleGan2/imgs/anime_girl_imgs/Training_imgs>:  48% 72350/150000 [3:13:50<106:45:11,  4.95s/it]G: 2.50 | D: 0.17 | GP: 0.97 | SS: 0.03\n",
            "anime_girl</content/drive/MyDrive/Colab Notebooks/StyleGan2/imgs/anime_girl_imgs/Training_imgs>:  48% 72400/150000 [3:17:56<106:39:54,  4.95s/it]G: 2.12 | D: 0.57 | GP: 0.31 | SS: 0.02\n",
            "anime_girl</content/drive/MyDrive/Colab Notebooks/StyleGan2/imgs/anime_girl_imgs/Training_imgs>:  48% 72450/150000 [3:22:04<106:36:23,  4.95s/it]G: 1.84 | D: 0.20 | GP: 0.09 | SS: 0.02\n",
            "anime_girl</content/drive/MyDrive/Colab Notebooks/StyleGan2/imgs/anime_girl_imgs/Training_imgs>:  48% 72500/150000 [3:26:09<106:30:49,  4.95s/it]G: 2.36 | D: 0.04 | GP: 0.13 | SS: 0.02\n",
            "anime_girl</content/drive/MyDrive/Colab Notebooks/StyleGan2/imgs/anime_girl_imgs/Training_imgs>:  48% 72550/150000 [3:30:18<106:27:23,  4.95s/it]G: 1.33 | D: 0.23 | GP: 0.08 | SS: 0.02\n",
            "anime_girl</content/drive/MyDrive/Colab Notebooks/StyleGan2/imgs/anime_girl_imgs/Training_imgs>:  48% 72600/150000 [3:34:22<106:21:57,  4.95s/it]G: 2.28 | D: 0.14 | GP: 0.15 | SS: 0.02\n",
            "anime_girl</content/drive/MyDrive/Colab Notebooks/StyleGan2/imgs/anime_girl_imgs/Training_imgs>:  48% 72650/150000 [3:38:32<106:18:42,  4.95s/it]G: 2.47 | D: 0.21 | GP: 0.16 | SS: 0.02\n",
            "anime_girl</content/drive/MyDrive/Colab Notebooks/StyleGan2/imgs/anime_girl_imgs/Training_imgs>:  48% 72700/150000 [3:42:36<106:13:19,  4.95s/it]G: 2.42 | D: 0.31 | GP: 0.09 | SS: 0.02\n",
            "anime_girl</content/drive/MyDrive/Colab Notebooks/StyleGan2/imgs/anime_girl_imgs/Training_imgs>:  48% 72750/150000 [3:46:45<106:09:54,  4.95s/it]G: 2.15 | D: 0.16 | GP: 0.06 | SS: 0.02\n",
            "anime_girl</content/drive/MyDrive/Colab Notebooks/StyleGan2/imgs/anime_girl_imgs/Training_imgs>:  49% 72800/150000 [3:50:50<106:04:36,  4.95s/it]G: 2.21 | D: 0.28 | GP: 0.22 | SS: 0.03\n",
            "anime_girl</content/drive/MyDrive/Colab Notebooks/StyleGan2/imgs/anime_girl_imgs/Training_imgs>:  49% 72850/150000 [3:54:59<106:01:15,  4.95s/it]G: 1.95 | D: 0.34 | GP: 0.32 | SS: 0.03\n",
            "anime_girl</content/drive/MyDrive/Colab Notebooks/StyleGan2/imgs/anime_girl_imgs/Training_imgs>:  49% 72900/150000 [3:59:04<105:56:00,  4.95s/it]G: 0.85 | D: 0.57 | GP: 0.11 | SS: 0.02\n",
            "anime_girl</content/drive/MyDrive/Colab Notebooks/StyleGan2/imgs/anime_girl_imgs/Training_imgs>:  49% 72950/150000 [4:03:12<105:52:24,  4.95s/it]G: 0.86 | D: 0.39 | GP: 1.02 | SS: 0.03\n",
            "anime_girl</content/drive/MyDrive/Colab Notebooks/StyleGan2/imgs/anime_girl_imgs/Training_imgs>:  49% 73000/150000 [4:07:17<105:47:19,  4.95s/it]G: 1.78 | D: 0.14 | GP: 2.15 | SS: 0.02\n",
            "anime_girl</content/drive/MyDrive/Colab Notebooks/StyleGan2/imgs/anime_girl_imgs/Training_imgs>:  49% 73050/150000 [4:11:32<105:46:03,  4.95s/it]G: 1.77 | D: 0.08 | GP: 0.82 | SS: 0.02\n",
            "anime_girl</content/drive/MyDrive/Colab Notebooks/StyleGan2/imgs/anime_girl_imgs/Training_imgs>:  49% 73100/150000 [4:15:37<105:41:02,  4.95s/it]G: 2.92 | D: 0.19 | GP: 0.30 | SS: 0.02\n",
            "anime_girl</content/drive/MyDrive/Colab Notebooks/StyleGan2/imgs/anime_girl_imgs/Training_imgs>:  49% 73150/150000 [4:19:45<105:37:21,  4.95s/it]G: 1.70 | D: 0.59 | GP: 0.12 | SS: 0.02\n",
            "anime_girl</content/drive/MyDrive/Colab Notebooks/StyleGan2/imgs/anime_girl_imgs/Training_imgs>:  49% 73200/150000 [4:23:50<105:32:13,  4.95s/it]G: 1.91 | D: 0.13 | GP: 0.12 | SS: 0.02\n",
            "anime_girl</content/drive/MyDrive/Colab Notebooks/StyleGan2/imgs/anime_girl_imgs/Training_imgs>:  49% 73250/150000 [4:27:58<105:28:31,  4.95s/it]G: 2.45 | D: 0.32 | GP: 0.27 | SS: 0.02\n",
            "anime_girl</content/drive/MyDrive/Colab Notebooks/StyleGan2/imgs/anime_girl_imgs/Training_imgs>:  49% 73300/150000 [4:32:03<105:23:24,  4.95s/it]G: 0.20 | D: 0.43 | GP: 0.20 | SS: 0.02\n",
            "anime_girl</content/drive/MyDrive/Colab Notebooks/StyleGan2/imgs/anime_girl_imgs/Training_imgs>:  49% 73350/150000 [4:36:12<105:19:57,  4.95s/it]G: 1.22 | D: 0.07 | GP: 0.30 | SS: 0.02\n",
            "anime_girl</content/drive/MyDrive/Colab Notebooks/StyleGan2/imgs/anime_girl_imgs/Training_imgs>:  49% 73400/150000 [4:40:17<105:14:44,  4.95s/it]G: 1.75 | D: 0.31 | GP: 0.09 | SS: 0.02\n",
            "anime_girl</content/drive/MyDrive/Colab Notebooks/StyleGan2/imgs/anime_girl_imgs/Training_imgs>:  49% 73450/150000 [4:44:26<105:11:12,  4.95s/it]G: 0.83 | D: 0.03 | GP: 0.08 | SS: 0.02\n",
            "anime_girl</content/drive/MyDrive/Colab Notebooks/StyleGan2/imgs/anime_girl_imgs/Training_imgs>:  49% 73500/150000 [4:48:30<105:06:07,  4.95s/it]G: 2.29 | D: 0.00 | GP: 0.13 | SS: 0.02\n",
            "anime_girl</content/drive/MyDrive/Colab Notebooks/StyleGan2/imgs/anime_girl_imgs/Training_imgs>:  49% 73550/150000 [4:52:39<105:02:36,  4.95s/it]G: 2.02 | D: 0.15 | GP: 0.27 | SS: 0.02\n",
            "anime_girl</content/drive/MyDrive/Colab Notebooks/StyleGan2/imgs/anime_girl_imgs/Training_imgs>:  49% 73600/150000 [4:56:44<104:57:37,  4.95s/it]G: 2.37 | D: 0.92 | GP: 0.14 | SS: 0.02\n",
            "anime_girl</content/drive/MyDrive/Colab Notebooks/StyleGan2/imgs/anime_girl_imgs/Training_imgs>:  49% 73650/150000 [5:00:53<104:54:08,  4.95s/it]G: 2.68 | D: 0.00 | GP: 0.04 | SS: 0.02\n",
            "anime_girl</content/drive/MyDrive/Colab Notebooks/StyleGan2/imgs/anime_girl_imgs/Training_imgs>:  49% 73700/150000 [5:04:58<104:49:05,  4.95s/it]G: 1.63 | D: 0.39 | GP: 0.45 | SS: 0.02\n",
            "anime_girl</content/drive/MyDrive/Colab Notebooks/StyleGan2/imgs/anime_girl_imgs/Training_imgs>:  49% 73750/150000 [5:09:07<104:45:23,  4.95s/it]G: 1.72 | D: 0.32 | GP: 0.11 | SS: 0.03\n",
            "anime_girl</content/drive/MyDrive/Colab Notebooks/StyleGan2/imgs/anime_girl_imgs/Training_imgs>:  49% 73800/150000 [5:13:12<104:40:39,  4.95s/it]G: 1.49 | D: 0.34 | GP: 0.15 | SS: 0.02\n",
            "anime_girl</content/drive/MyDrive/Colab Notebooks/StyleGan2/imgs/anime_girl_imgs/Training_imgs>:  49% 73850/150000 [5:17:21<104:36:58,  4.95s/it]G: 2.94 | D: 0.03 | GP: 0.34 | SS: 0.02\n",
            "anime_girl</content/drive/MyDrive/Colab Notebooks/StyleGan2/imgs/anime_girl_imgs/Training_imgs>:  49% 73900/150000 [5:21:26<104:32:10,  4.95s/it]G: 2.50 | D: 0.03 | GP: 0.86 | SS: 0.02\n",
            "anime_girl</content/drive/MyDrive/Colab Notebooks/StyleGan2/imgs/anime_girl_imgs/Training_imgs>:  49% 73950/150000 [5:25:34<104:28:26,  4.95s/it]G: 1.94 | D: 0.28 | GP: 0.33 | SS: 0.02\n",
            "anime_girl</content/drive/MyDrive/Colab Notebooks/StyleGan2/imgs/anime_girl_imgs/Training_imgs>:  49% 74000/150000 [5:29:40<104:23:45,  4.95s/it]G: 1.04 | D: 0.24 | GP: 0.08 | SS: 0.01\n",
            "anime_girl</content/drive/MyDrive/Colab Notebooks/StyleGan2/imgs/anime_girl_imgs/Training_imgs>:  49% 74050/150000 [5:33:55<104:21:59,  4.95s/it]G: 2.20 | D: 0.10 | GP: 0.05 | SS: 0.04\n",
            "anime_girl</content/drive/MyDrive/Colab Notebooks/StyleGan2/imgs/anime_girl_imgs/Training_imgs>:  49% 74100/150000 [5:37:59<104:16:56,  4.95s/it]G: 2.77 | D: 0.49 | GP: 0.11 | SS: 0.02\n",
            "anime_girl</content/drive/MyDrive/Colab Notebooks/StyleGan2/imgs/anime_girl_imgs/Training_imgs>:  49% 74150/150000 [5:42:08<104:13:19,  4.95s/it]G: 1.58 | D: 0.21 | GP: 0.05 | SS: 0.02\n",
            "anime_girl</content/drive/MyDrive/Colab Notebooks/StyleGan2/imgs/anime_girl_imgs/Training_imgs>:  49% 74200/150000 [5:46:12<104:08:19,  4.95s/it]G: 1.98 | D: 0.20 | GP: 0.06 | SS: 0.01\n",
            "anime_girl</content/drive/MyDrive/Colab Notebooks/StyleGan2/imgs/anime_girl_imgs/Training_imgs>:  50% 74250/150000 [5:50:21<104:04:38,  4.95s/it]G: 1.39 | D: 0.15 | GP: 0.09 | SS: 0.02\n",
            "anime_girl</content/drive/MyDrive/Colab Notebooks/StyleGan2/imgs/anime_girl_imgs/Training_imgs>:  50% 74300/150000 [5:54:26<103:59:42,  4.95s/it]G: 1.86 | D: 0.16 | GP: 0.16 | SS: 0.02\n",
            "anime_girl</content/drive/MyDrive/Colab Notebooks/StyleGan2/imgs/anime_girl_imgs/Training_imgs>:  50% 74350/150000 [5:58:35<103:56:08,  4.95s/it]G: 1.84 | D: 0.44 | GP: 0.11 | SS: 0.02\n",
            "anime_girl</content/drive/MyDrive/Colab Notebooks/StyleGan2/imgs/anime_girl_imgs/Training_imgs>:  50% 74400/150000 [6:02:39<103:51:13,  4.95s/it]G: 1.79 | D: 0.14 | GP: 0.14 | SS: 0.02\n",
            "anime_girl</content/drive/MyDrive/Colab Notebooks/StyleGan2/imgs/anime_girl_imgs/Training_imgs>:  50% 74450/150000 [6:06:48<103:47:32,  4.95s/it]G: 2.87 | D: 0.07 | GP: 0.16 | SS: 0.02\n",
            "anime_girl</content/drive/MyDrive/Colab Notebooks/StyleGan2/imgs/anime_girl_imgs/Training_imgs>:  50% 74500/150000 [6:10:53<103:42:45,  4.95s/it]G: 1.08 | D: 0.19 | GP: 0.08 | SS: 0.02\n",
            "anime_girl</content/drive/MyDrive/Colab Notebooks/StyleGan2/imgs/anime_girl_imgs/Training_imgs>:  50% 74550/150000 [6:15:02<103:39:00,  4.95s/it]G: 2.10 | D: 1.00 | GP: 0.16 | SS: 0.02\n",
            "anime_girl</content/drive/MyDrive/Colab Notebooks/StyleGan2/imgs/anime_girl_imgs/Training_imgs>:  50% 74600/150000 [6:19:07<103:34:17,  4.95s/it]G: 1.61 | D: 0.06 | GP: 0.12 | SS: 0.02\n",
            "anime_girl</content/drive/MyDrive/Colab Notebooks/StyleGan2/imgs/anime_girl_imgs/Training_imgs>:  50% 74650/150000 [6:23:15<103:30:33,  4.95s/it]G: 1.01 | D: 0.42 | GP: 0.12 | SS: 0.02\n",
            "anime_girl</content/drive/MyDrive/Colab Notebooks/StyleGan2/imgs/anime_girl_imgs/Training_imgs>:  50% 74700/150000 [6:27:21<103:25:55,  4.94s/it]G: 1.61 | D: 0.01 | GP: 0.61 | SS: 0.02\n",
            "anime_girl</content/drive/MyDrive/Colab Notebooks/StyleGan2/imgs/anime_girl_imgs/Training_imgs>:  50% 74750/150000 [6:31:29<103:22:05,  4.95s/it]G: 2.71 | D: 0.74 | GP: 0.12 | SS: 0.02\n",
            "anime_girl</content/drive/MyDrive/Colab Notebooks/StyleGan2/imgs/anime_girl_imgs/Training_imgs>:  50% 74800/150000 [6:35:34<103:17:25,  4.94s/it]G: 2.07 | D: 0.22 | GP: 0.28 | SS: 0.02\n",
            "anime_girl</content/drive/MyDrive/Colab Notebooks/StyleGan2/imgs/anime_girl_imgs/Training_imgs>:  50% 74850/150000 [6:39:43<103:13:35,  4.94s/it]G: 1.09 | D: 0.41 | GP: 0.05 | SS: 0.01\n",
            "anime_girl</content/drive/MyDrive/Colab Notebooks/StyleGan2/imgs/anime_girl_imgs/Training_imgs>:  50% 74900/150000 [6:43:48<103:08:55,  4.94s/it]G: 3.15 | D: 0.01 | GP: 0.05 | SS: 0.02\n",
            "anime_girl</content/drive/MyDrive/Colab Notebooks/StyleGan2/imgs/anime_girl_imgs/Training_imgs>:  50% 74950/150000 [6:47:56<103:05:09,  4.94s/it]G: 1.17 | D: 1.72 | GP: 0.07 | SS: 0.05\n",
            "anime_girl</content/drive/MyDrive/Colab Notebooks/StyleGan2/imgs/anime_girl_imgs/Training_imgs>:  50% 75000/150000 [6:52:01<103:00:21,  4.94s/it]G: 2.01 | D: 0.24 | GP: 0.22 | SS: 0.02\n",
            "anime_girl</content/drive/MyDrive/Colab Notebooks/StyleGan2/imgs/anime_girl_imgs/Training_imgs>:  50% 75050/150000 [6:56:16<102:58:06,  4.95s/it]G: 1.53 | D: 0.14 | GP: 0.35 | SS: 0.03\n",
            "anime_girl</content/drive/MyDrive/Colab Notebooks/StyleGan2/imgs/anime_girl_imgs/Training_imgs>:  50% 75100/150000 [7:00:20<102:53:22,  4.95s/it]G: 2.48 | D: 0.01 | GP: 0.99 | SS: 0.02\n",
            "anime_girl</content/drive/MyDrive/Colab Notebooks/StyleGan2/imgs/anime_girl_imgs/Training_imgs>:  50% 75150/150000 [7:04:30<102:49:40,  4.95s/it]G: 2.68 | D: 0.00 | GP: 0.74 | SS: 0.02\n",
            "anime_girl</content/drive/MyDrive/Colab Notebooks/StyleGan2/imgs/anime_girl_imgs/Training_imgs>:  50% 75200/150000 [7:08:34<102:44:56,  4.95s/it]G: 2.36 | D: 0.46 | GP: 0.74 | SS: 0.04\n",
            "anime_girl</content/drive/MyDrive/Colab Notebooks/StyleGan2/imgs/anime_girl_imgs/Training_imgs>:  50% 75250/150000 [7:12:43<102:41:13,  4.95s/it]G: 3.17 | D: 0.33 | GP: 0.11 | SS: 0.02\n",
            "anime_girl</content/drive/MyDrive/Colab Notebooks/StyleGan2/imgs/anime_girl_imgs/Training_imgs>:  50% 75300/150000 [7:16:48<102:36:28,  4.94s/it]G: 2.15 | D: 0.39 | GP: 0.57 | SS: 0.03\n",
            "anime_girl</content/drive/MyDrive/Colab Notebooks/StyleGan2/imgs/anime_girl_imgs/Training_imgs>:  50% 75350/150000 [7:20:57<102:32:41,  4.95s/it]G: 1.86 | D: 0.69 | GP: 0.12 | SS: 0.02\n",
            "anime_girl</content/drive/MyDrive/Colab Notebooks/StyleGan2/imgs/anime_girl_imgs/Training_imgs>:  50% 75400/150000 [7:25:01<102:28:02,  4.94s/it]G: 2.52 | D: 0.01 | GP: 0.67 | SS: 0.02\n",
            "anime_girl</content/drive/MyDrive/Colab Notebooks/StyleGan2/imgs/anime_girl_imgs/Training_imgs>:  50% 75450/150000 [7:29:10<102:24:13,  4.95s/it]G: 2.05 | D: 0.48 | GP: 0.10 | SS: 0.05\n",
            "anime_girl</content/drive/MyDrive/Colab Notebooks/StyleGan2/imgs/anime_girl_imgs/Training_imgs>:  50% 75500/150000 [7:33:15<102:19:37,  4.94s/it]G: 1.99 | D: 0.54 | GP: 0.26 | SS: 0.02\n",
            "anime_girl</content/drive/MyDrive/Colab Notebooks/StyleGan2/imgs/anime_girl_imgs/Training_imgs>:  50% 75550/150000 [7:37:24<102:15:47,  4.94s/it]G: 1.25 | D: 0.05 | GP: 0.10 | SS: 0.02\n",
            "anime_girl</content/drive/MyDrive/Colab Notebooks/StyleGan2/imgs/anime_girl_imgs/Training_imgs>:  50% 75600/150000 [7:41:29<102:11:12,  4.94s/it]G: 1.83 | D: 0.15 | GP: 0.19 | SS: 0.01\n",
            "anime_girl</content/drive/MyDrive/Colab Notebooks/StyleGan2/imgs/anime_girl_imgs/Training_imgs>:  50% 75650/150000 [7:45:37<102:07:23,  4.94s/it]G: 1.84 | D: 0.08 | GP: 0.90 | SS: 0.02\n",
            "anime_girl</content/drive/MyDrive/Colab Notebooks/StyleGan2/imgs/anime_girl_imgs/Training_imgs>:  50% 75700/150000 [7:49:43<102:02:48,  4.94s/it]G: 0.77 | D: 0.42 | GP: 0.14 | SS: 0.02\n",
            "anime_girl</content/drive/MyDrive/Colab Notebooks/StyleGan2/imgs/anime_girl_imgs/Training_imgs>:  50% 75750/150000 [7:53:51<101:59:00,  4.94s/it]G: 2.14 | D: 0.11 | GP: 0.46 | SS: 0.02\n",
            "anime_girl</content/drive/MyDrive/Colab Notebooks/StyleGan2/imgs/anime_girl_imgs/Training_imgs>:  51% 75800/150000 [7:57:56<101:54:20,  4.94s/it]G: 2.20 | D: 0.23 | GP: 0.52 | SS: 0.01\n",
            "anime_girl</content/drive/MyDrive/Colab Notebooks/StyleGan2/imgs/anime_girl_imgs/Training_imgs>:  51% 75850/150000 [8:02:05<101:50:36,  4.94s/it]G: 2.17 | D: 0.02 | GP: 0.14 | SS: 0.02\n",
            "anime_girl</content/drive/MyDrive/Colab Notebooks/StyleGan2/imgs/anime_girl_imgs/Training_imgs>:  51% 75856/150000 [8:02:33<101:49:41,  4.94s/it]"
          ]
        }
      ],
      "source": [
        "!lightweight_gan --data \"/content/drive/MyDrive/Colab Notebooks/StyleGan2/imgs/anime_girl_imgs/Training_imgs\" \\\n",
        "--image-size 512 \\\n",
        "--models_dir \"/content/drive/MyDrive/Colab Notebooks/StyleGan2/models\" \\\n",
        "--results_dir \"/content/drive/MyDrive/Colab Notebooks/StyleGan2/result_imgs\" \\\n",
        "--name anime_girl \\\n",
        "--num-train-steps 150000 \\\n",
        "--aug-types [color,translation,offset,cutout] \\\n",
        "--save-every 1000 \\\n",
        "--aug-prob 0.25"
      ]
    },
    {
      "cell_type": "markdown",
      "metadata": {
        "id": "mh_mU8Zd1GC8"
      },
      "source": [
        "## Generate Image"
      ]
    },
    {
      "cell_type": "code",
      "execution_count": null,
      "metadata": {
        "id": "2BUP9HTq1FNG"
      },
      "outputs": [],
      "source": [
        "!lightweight_gan \\\n",
        "  --name \"lgan_image\" \\\n",
        "  --models_dir \"/content/drive/MyDrive/Colab Notebooks/StyleGan2/models/anime_girl\" \\\n",
        "  --generate \\\n",
        "  --num-image-tiles 8"
      ]
    }
  ],
  "metadata": {
    "accelerator": "GPU",
    "colab": {
      "collapsed_sections": [
        "Vw5oJMF7t8oR"
      ],
      "name": "StyleGan2_ver1.0.ipynb",
      "provenance": [],
      "toc_visible": true,
      "include_colab_link": true
    },
    "kernelspec": {
      "display_name": "Python 3",
      "name": "python3"
    },
    "language_info": {
      "name": "python"
    }
  },
  "nbformat": 4,
  "nbformat_minor": 0
}